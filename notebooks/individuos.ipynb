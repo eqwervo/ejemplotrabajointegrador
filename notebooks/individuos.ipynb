{
 "cells": [
  {
   "cell_type": "markdown",
   "id": "c1eacece",
   "metadata": {},
   "source": [
    "## Ejercicios de calentamiento"
   ]
  },
  {
   "cell_type": "code",
   "execution_count": 2,
   "id": "303c439a",
   "metadata": {},
   "outputs": [
    {
     "name": "stdout",
     "output_type": "stream",
     "text": [
      "Ruta de 'src': C:\\Users\\cuerv\\Documents\\Esteban\\CDO\\Taller\\trabajo_integrador\n"
     ]
    }
   ],
   "source": [
    "from pathlib import Path\n",
    "import csv\n",
    "import sys\n",
    "import os\n",
    "import os.path\n",
    "\n",
    "ruta_proyecto = Path().resolve().parent\n",
    "sys.path.append(str(ruta_proyecto))\n",
    "print(\"Ruta de 'src':\", str(os.path.join(ruta_proyecto)))"
   ]
  },
  {
   "cell_type": "code",
   "execution_count": 3,
   "id": "35a248cc",
   "metadata": {},
   "outputs": [
    {
     "name": "stdout",
     "output_type": "stream",
     "text": [
      "Ruta: C:\\Users\\cuerv\\Documents\\Esteban\\CDO\\Taller\\trabajo_integrador\\files\\usu_individual_T324.txt\n",
      "Cantidad Femenimo: 15248344 || Cantidad Masculino: 14471801\n",
      "<class 'pathlib.WindowsPath'>\n",
      "<class '_io.TextIOWrapper'>\n",
      "cantidad adultos: 4701801\n"
     ]
    }
   ],
   "source": [
    "path_file = Path('..') / 'files' / 'usu_individual_T324.txt'\n",
    "\n",
    "from src.functions import gender_counter\n",
    "\n",
    "gender_index = 11       # 1 = Varon, 2 = Mujer\n",
    "\n",
    "pondera_index = 9\n",
    "age_index = 13\n",
    "education_index = 19\n",
    "edu_complete_index = 20\n",
    "\n",
    "count_adult_edu = 0\n",
    "\n",
    "gender_counter(path_file)\n",
    "\n",
    "\n",
    "with open(path_file, encoding='utf-8') as archivo_csv:\n",
    "    print(type(path_file))\n",
    "    print(type(archivo_csv))\n",
    "    \n",
    "    reader = csv.reader(archivo_csv, delimiter=';')\n",
    "    header = next(reader) \n",
    "    for row in reader:\n",
    "        if row[age_index] >= '18' and row[education_index] > '4' and row[edu_complete_index] == '1':\n",
    "            count_adult_edu += int(row[pondera_index])\n",
    "    print(f'cantidad adultos: {count_adult_edu}')"
   ]
  },
  {
   "cell_type": "code",
   "execution_count": 4,
   "id": "9c0a19a3",
   "metadata": {},
   "outputs": [
    {
     "name": "stdout",
     "output_type": "stream",
     "text": [
      "c:\\Users\\cuerv\\Documents\\Esteban\\CDO\\Taller\\trabajo_integrador\\files\\usu_individual_T224.txt\n",
      "c:\\Users\\cuerv\\Documents\\Esteban\\CDO\\Taller\\trabajo_integrador\\files\\usu_individual_T324.txt\n"
     ]
    }
   ],
   "source": [
    "path_folder = Path.cwd().parent / 'files'\n",
    "#print(f'Path folder: {path_folder}')\n",
    "dataset_out = Path.cwd().parent / 'data_out' / 'dataset.csv'\n",
    "\n",
    "row_count = 0\n",
    "gender_index_str = 12\n",
    "with dataset_out.open(\"w\") as out:\n",
    "    for data_unit in os.listdir(str(path_folder)):\n",
    "        #print(archivo)\n",
    "        if data_unit.startswith('usu_individual_'):\n",
    "            data_unit_path = Path(os.path.join(path_folder, data_unit))\n",
    "            #print(type(data_unit_path))\n",
    "            print(data_unit_path)\n",
    "            with open(data_unit_path, encoding='UTF-8') as csv_file:\n",
    "                #print(type(data_unit_path))\n",
    "                #print(type(csv_file))\n",
    "                #reader = csv.reader(csv_file, delimiter=';')\n",
    "                #header = next(reader)\n",
    "                #row_count = len(list(reader))\n",
    "                #print(row_count)\n",
    "                for row in csv_file:\n",
    "                    out.write(row)\n",
    "\n",
    "\n",
    "            \n"
   ]
  }
 ],
 "metadata": {
  "kernelspec": {
   "display_name": "Python 3",
   "language": "python",
   "name": "python3"
  },
  "language_info": {
   "codemirror_mode": {
    "name": "ipython",
    "version": 3
   },
   "file_extension": ".py",
   "mimetype": "text/x-python",
   "name": "python",
   "nbconvert_exporter": "python",
   "pygments_lexer": "ipython3",
   "version": "3.12.9"
  }
 },
 "nbformat": 4,
 "nbformat_minor": 5
}
