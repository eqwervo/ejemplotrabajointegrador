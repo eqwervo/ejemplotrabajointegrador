{
 "cells": [
  {
   "cell_type": "markdown",
   "id": "c1eacece",
   "metadata": {},
   "source": [
    "## Ejercicios de calentamiento"
   ]
  },
  {
   "cell_type": "code",
   "execution_count": 13,
   "id": "303c439a",
   "metadata": {},
   "outputs": [
    {
     "name": "stdout",
     "output_type": "stream",
     "text": [
      "Ruta de 'src': C:\\Users\\Esteban\\Desktop\\Esteban\\CDO\\Taller\\trabajo_integrador\n"
     ]
    }
   ],
   "source": [
    "from pathlib import Path\n",
    "import csv\n",
    "import sys\n",
    "import os\n",
    "import os.path\n",
    "\n",
    "ruta_proyecto = Path().resolve().parent\n",
    "sys.path.append(str(ruta_proyecto))\n",
    "print(\"Ruta de 'src':\", str(os.path.join(ruta_proyecto)))"
   ]
  },
  {
   "cell_type": "code",
   "execution_count": 14,
   "id": "35a248cc",
   "metadata": {},
   "outputs": [
    {
     "name": "stdout",
     "output_type": "stream",
     "text": [
      "Cantidad Femenimo: 15248344 || Cantidad Masculino: 14471801\n",
      "<class 'pathlib.WindowsPath'>\n",
      "<class '_io.TextIOWrapper'>\n",
      "cantidad adultos: 4701801\n"
     ]
    }
   ],
   "source": [
    "path_file = Path('..') / 'files' / 'usu_individual_T324.txt'\n",
    "\n",
    "from src.functions import gender_counter\n",
    "\n",
    "gender_index = 11       # 1 = Varon, 2 = Mujer\n",
    "\n",
    "pondera_index = 9\n",
    "age_index = 13\n",
    "education_index = 19\n",
    "edu_complete_index = 20\n",
    "\n",
    "count_adult_edu = 0\n",
    "\n",
    "gender_counter(path_file)\n",
    "\n",
    "\n",
    "with open(path_file, encoding='utf-8') as archivo_csv:\n",
    "    print(type(path_file))\n",
    "    print(type(archivo_csv))\n",
    "    \n",
    "    reader = csv.reader(archivo_csv, delimiter=';')\n",
    "    header = next(reader) \n",
    "    for row in reader:\n",
    "        if row[age_index] >= '18' and row[education_index] > '4' and row[edu_complete_index] == '1':\n",
    "            count_adult_edu += int(row[pondera_index])\n",
    "    print(f'cantidad adultos: {count_adult_edu}')"
   ]
  },
  {
   "cell_type": "code",
   "execution_count": null,
   "id": "9c0a19a3",
   "metadata": {},
   "outputs": [
    {
     "name": "stdout",
     "output_type": "stream",
     "text": [
      "c:\\Users\\Esteban\\Desktop\\Esteban\\CDO\\Taller\\trabajo_integrador\\files\\usu_individual_T224.txt\n",
      "c:\\Users\\Esteban\\Desktop\\Esteban\\CDO\\Taller\\trabajo_integrador\\files\\usu_individual_T324.txt\n",
      "['CODUSU', 'ANO4', 'TRIMESTRE', 'NRO_HOGAR', 'COMPONENTE', 'H15', 'REGION', 'MAS_500', 'AGLOMERADO', 'PONDERA', 'CH03', 'CH04', 'CH04_str', 'CH04_str', 'CH05', 'CH06', 'CH07', 'CH08', 'CH09', 'CH10', 'CH11', 'CH12', 'CH13', 'CH14', 'CH15', 'CH15_COD', 'CH16', 'CH16_COD', 'NIVEL_ED', 'ESTADO', 'CAT_OCUP', 'CAT_INAC', 'IMPUTA', 'PP02C1', 'PP02C2', 'PP02C3', 'PP02C4', 'PP02C5', 'PP02C6', 'PP02C7', 'PP02C8', 'PP02E', 'PP02H', 'PP02I', 'PP03C', 'PP03D', 'PP3E_TOT', 'PP3F_TOT', 'PP03G', 'PP03H', 'PP03I', 'PP03J', 'INTENSI', 'PP04A', 'PP04B_COD', 'PP04B1', 'PP04B2', 'PP04B3_MES', 'PP04B3_ANO', 'PP04B3_DIA', 'PP04C', 'PP04C99', 'PP04D_COD', 'PP04G', 'PP05B2_MES', 'PP05B2_ANO', 'PP05B2_DIA', 'PP05C_1', 'PP05C_2', 'PP05C_3', 'PP05E', 'PP05F', 'PP05H', 'PP06A', 'PP06C', 'PP06D', 'PP06E', 'PP06H', 'PP07A', 'PP07C', 'PP07D', 'PP07E', 'PP07F1', 'PP07F2', 'PP07F3', 'PP07F4', 'PP07F5', 'PP07G1', 'PP07G2', 'PP07G3', 'PP07G4', 'PP07G_59', 'PP07H', 'PP07I', 'PP07J', 'PP07K', 'PP08D1', 'PP08D4', 'PP08F1', 'PP08F2', 'PP08J1', 'PP08J2', 'PP08J3', 'PP09A', 'PP09A_ESP', 'PP09B', 'PP09C', 'PP09C_ESP', 'PP10A', 'PP10C', 'PP10D', 'PP10E', 'PP11A', 'PP11B_COD', 'PP11B1', 'PP11B2_MES', 'PP11B2_ANO', 'PP11B2_DIA', 'PP11C', 'PP11C99', 'PP11D_COD', 'PP11G_ANO', 'PP11G_MES', 'PP11G_DIA', 'PP11L', 'PP11L1', 'PP11M', 'PP11N', 'PP11O', 'PP11P', 'PP11Q', 'PP11R', 'PP11S', 'PP11T', 'P21', 'DECOCUR', 'IDECOCUR', 'RDECOCUR', 'GDECOCUR', 'PDECOCUR', 'ADECOCUR', 'PONDIIO', 'TOT_P12', 'P47T', 'DECINDR', 'IDECINDR', 'RDECINDR', 'GDECINDR', 'PDECINDR', 'ADECINDR', 'PONDII', 'V2_M', 'V3_M', 'V4_M', 'V5_M', 'V8_M', 'V9_M', 'V10_M', 'V11_M', 'V12_M', 'V18_M', 'V19_AM', 'V21_M', 'T_VI', 'ITF', 'DECIFR', 'IDECIFR', 'RDECIFR', 'GDECIFR', 'PDECIFR', 'ADECIFR', 'IPCF', 'DECCFR', 'IDECCFR', 'RDECCFR', 'GDECCFR', 'PDECCFR', 'ADECCFR', 'PONDIH']\n"
     ]
    }
   ],
   "source": [
    "path_folder = Path.cwd().parent / 'files'\n",
    "#print(f'Path folder: {path_folder}')\n",
    "dataset_out = Path.cwd().parent / 'data_out' / 'dataset.csv'\n",
    "\n",
    "row_count = 0\n",
    "gender_index_str = 12\n",
    "with dataset_out.open(\"w\") as out:\n",
    "    for data_unit in os.listdir(str(path_folder)):\n",
    "        #print(archivo)\n",
    "        if data_unit.startswith('usu_individual_'):\n",
    "            data_unit_path = Path(os.path.join(path_folder, data_unit))\n",
    "            #print(type(data_unit_path))\n",
    "            print(data_unit_path)\n",
    "            with open(data_unit_path, encoding='UTF-8') as csv_file:\n",
    "                #print(type(data_unit_path))\n",
    "                #print(type(csv_file))\n",
    "                #reader = csv.reader(csv_file, delimiter=';')\n",
    "                #header = next(reader)\n",
    "                #row_count = len(list(reader))\n",
    "                #print(row_count)\n",
    "                for row in csv_file:\n",
    "                    out.write(row)\n",
    "\n",
    "\n",
    "            \n"
   ]
  }
 ],
 "metadata": {
  "kernelspec": {
   "display_name": "Python 3",
   "language": "python",
   "name": "python3"
  },
  "language_info": {
   "codemirror_mode": {
    "name": "ipython",
    "version": 3
   },
   "file_extension": ".py",
   "mimetype": "text/x-python",
   "name": "python",
   "nbconvert_exporter": "python",
   "pygments_lexer": "ipython3",
   "version": "3.12.9"
  }
 },
 "nbformat": 4,
 "nbformat_minor": 5
}
