{
 "cells": [
  {
   "cell_type": "code",
   "execution_count": 1,
   "id": "65b94d8c",
   "metadata": {},
   "outputs": [
    {
     "name": "stdout",
     "output_type": "stream",
     "text": [
      "Ruta de 'files': c:\\Users\\Esteban\\Desktop\\Esteban\\CDO\\Taller\\trabajo_integrador\\files\n"
     ]
    }
   ],
   "source": [
    "import sys\n",
    "import os\n",
    "ruta_proyecto = os.path.abspath(os.path.join(\"..\"))\n",
    "sys.path.append(ruta_proyecto)\n",
    "print(\"Ruta de 'files':\", os.path.join(ruta_proyecto, \"files\"))\n",
    "\n",
    "import csv"
   ]
  },
  {
   "cell_type": "code",
   "execution_count": 2,
   "id": "745e3482",
   "metadata": {},
   "outputs": [
    {
     "name": "stdout",
     "output_type": "stream",
     "text": [
      "\n",
      "          El total de viviendas es: 10189677,\n",
      "          el total de viviendas con dueño es: 6113956.\n",
      "          Lo que representa un porcentaje de 60.00147011529413\n",
      "33 20\n"
     ]
    }
   ],
   "source": [
    "path_file = '../files/usu_hogar_T324.txt'\n",
    "\n",
    "pondera_index = 8\n",
    "house_tenure_index = 37\n",
    "member_per_house_index = 64\n",
    "bath_index = 19\n",
    "conglomerate_index = 7\n",
    "\n",
    "owner_count = 0\n",
    "owner_count_total = 0\n",
    "min = 9999\n",
    "max = -9999\n",
    "conglomerate_counter = {}\n",
    "\n",
    "with open(path_file, encoding='utf-8') as archivo_csv:\n",
    "    reader = csv.reader(archivo_csv, delimiter=';')\n",
    "    header = next(reader)\n",
    "    for row in reader:\n",
    "        owner_count_total += int(row[pondera_index])\n",
    "        if row[house_tenure_index] == '1':\n",
    "            owner_count += int(row[pondera_index])\n",
    "    percent_house = (owner_count / owner_count_total) * 100\n",
    "    print(f'''\n",
    "          El total de viviendas es: {owner_count_total},\n",
    "          el total de viviendas con dueño es: {owner_count}.\n",
    "          Lo que representa un porcentaje de {(percent_house)}''')\n",
    "\n",
    "with open(path_file, encoding='utf-8') as archivo_csv:\n",
    "    reader = csv.reader(archivo_csv, delimiter=';')\n",
    "    header = next(reader)\n",
    "    for row in reader:\n",
    "        conglomerate_counter[row[conglomerate_index]] =  0\n",
    "        \n",
    "with open(path_file, encoding='utf-8') as archivo_csv:\n",
    "    reader = csv.reader(archivo_csv, delimiter=';')\n",
    "    header = next(reader)       \n",
    "    for row in reader:\n",
    "        if row[member_per_house_index] >= '2' and row[bath_index] == '2':\n",
    "            conglomerate_counter[row[conglomerate_index]] +=  int(row[pondera_index])\n",
    "for key, value in conglomerate_counter.items():\n",
    "    if value > max:\n",
    "        max = value\n",
    "        conglomerate_max = key\n",
    "    if value < min and value != 0:\n",
    "        min = value\n",
    "        conglomerate_min = key\n",
    "print(conglomerate_max, conglomerate_min)                   "
   ]
  }
 ],
 "metadata": {
  "kernelspec": {
   "display_name": "Python 3",
   "language": "python",
   "name": "python3"
  },
  "language_info": {
   "codemirror_mode": {
    "name": "ipython",
    "version": 3
   },
   "file_extension": ".py",
   "mimetype": "text/x-python",
   "name": "python",
   "nbconvert_exporter": "python",
   "pygments_lexer": "ipython3",
   "version": "3.12.9"
  }
 },
 "nbformat": 4,
 "nbformat_minor": 5
}
